{
 "cells": [
  {
   "cell_type": "code",
   "execution_count": 9,
   "metadata": {},
   "outputs": [],
   "source": [
    "from selenium import webdriver\n",
    "from selenium.webdriver.common.by import By\n",
    "import getpass"
   ]
  },
  {
   "cell_type": "code",
   "execution_count": 10,
   "metadata": {},
   "outputs": [
    {
     "name": "stdout",
     "output_type": "stream",
     "text": [
      "Enter your email or phone number: fatemeh.1374.b@gmail.com\n",
      "Enter your password: ········\n",
      "Enter your name: ········\n",
      "passed!\n"
     ]
    }
   ],
   "source": [
    "chrome_browser=webdriver.Chrome()\n",
    "chrome_browser.get('https://www.digikala.com')\n",
    "\n",
    "#User_credentials\n",
    "email = input(\"Enter your email or phone number: \")\n",
    "password = getpass.getpass(\"Enter your password: \")\n",
    "user_name = getpass.getpass(\"Enter your name: \")\n",
    "try:\n",
    "    usr_nm=digikala_login(email,password)\n",
    "    assert (user_name == usr_nm)\n",
    "    print('passed!')\n",
    "except Exception as e:\n",
    "    print(e)\n",
    "    print('failed!')\n",
    "finally:\n",
    "    chrome_browser.close()"
   ]
  },
  {
   "cell_type": "code",
   "execution_count": 3,
   "metadata": {},
   "outputs": [],
   "source": [
    "def click_button(selector):\n",
    "    buttun_element = chrome_browser.find_element(By.XPATH,selector)\n",
    "    buttun_element.click()"
   ]
  },
  {
   "cell_type": "code",
   "execution_count": 4,
   "metadata": {},
   "outputs": [],
   "source": [
    "def fill_edittext(selector,text):\n",
    "    edittxt_element = chrome_browser.find_element(By.XPATH,selector)\n",
    "    edittxt_element.send_keys(text)"
   ]
  },
  {
   "cell_type": "code",
   "execution_count": 5,
   "metadata": {},
   "outputs": [],
   "source": [
    "def get_text(selector):\n",
    "    txt_element= chrome_browser.find_element(By.XPATH,selector)\n",
    "    return txt_element.text\n"
   ]
  },
  {
   "cell_type": "code",
   "execution_count": 6,
   "metadata": {},
   "outputs": [],
   "source": [
    "def digikala_login(email,password):\n",
    "    #login_button\n",
    "    click_button('/html/body/header/div/div/div[2]/div[1]/div/a')\n",
    "    #email_edittext\n",
    "    fill_edittext('/html/body/main/div[2]/section/div[2]/form/div[4]/label/div[1]/input',email)\n",
    "    #enter_button\n",
    "    click_button('/html/body/main/div[2]/section/div[2]/form/button')\n",
    "    #password_edittext\n",
    "    fill_edittext('/html/body/main/div[2]/section/div/form/div[2]/div[3]/label/div/input',password)\n",
    "    #continue_button\n",
    "    click_button('/html/body/main/div[2]/section/div/form/button')\n",
    "    #account_button\n",
    "    click_button('/html/body/header/div/div/div[2]/div[1]/div')\n",
    "    #user_name_elemet\n",
    "    user_name=get_text('/html/body/header/div/div/div[2]/div[1]/div/div/div[1]/div[1]/div[2]/p')\n",
    "    return user_name"
   ]
  }
 ],
 "metadata": {
  "kernelspec": {
   "display_name": "Python 3",
   "language": "python",
   "name": "python3"
  },
  "language_info": {
   "codemirror_mode": {
    "name": "ipython",
    "version": 3
   },
   "file_extension": ".py",
   "mimetype": "text/x-python",
   "name": "python",
   "nbconvert_exporter": "python",
   "pygments_lexer": "ipython3",
   "version": "3.7.6"
  }
 },
 "nbformat": 4,
 "nbformat_minor": 4
}
